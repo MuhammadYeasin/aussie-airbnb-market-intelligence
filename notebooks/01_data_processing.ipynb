{
  "cells": [
    {
      "cell_type": "markdown",
      "metadata": {},
      "source": [
        "# Sprint 1: Data Processing\n",
        "\n",
        "This notebook performs the initial data cleaning and merging for the Aussie Airbnb Market Intelligence Agent.\n",
        "\n",
        "## Steps:\n",
        "1. Load CSV files from data/raw/\n",
        "2. Add city and data_snapshot_date columns\n",
        "3. Concatenate DataFrames\n",
        "4. Clean the data\n",
        "5. Save to data/processed/\n"
      ]
    },
    {
      "cell_type": "code",
      "execution_count": null,
      "metadata": {},
      "outputs": [],
      "source": [
        "import pandas as pd\n",
        "import numpy as np\n",
        "import os\n",
        "\n",
        "# Set up paths\n",
        "base_path = os.path.dirname(os.path.dirname(os.getcwd()))\n",
        "data_raw_path = os.path.join(base_path, 'data', 'raw')\n",
        "data_processed_path = os.path.join(base_path, 'data', 'processed')\n",
        "\n",
        "# Define file paths\n",
        "sydney_path = os.path.join(data_raw_path, 'sydney_listings.csv')\n",
        "melbourne_path = os.path.join(data_raw_path, 'melbourne_listings.csv')\n",
        "brisbane_path = os.path.join(data_raw_path, 'brisbane_listings.csv')\n",
        "\n",
        "print(f\"Base path: {base_path}\")\n",
        "print(f\"Raw data path: {data_raw_path}\")\n",
        "print(f\"Processed data path: {data_processed_path}\")\n",
        "print(f\"Sydney file exists: {os.path.exists(sydney_path)}\")\n",
        "print(f\"Melbourne file exists: {os.path.exists(melbourne_path)}\")\n",
        "print(f\"Brisbane file exists: {os.path.exists(brisbane_path)}\")\n"
      ]
    },
    {
      "cell_type": "code",
      "execution_count": null,
      "metadata": {},
      "outputs": [],
      "source": [
        "# Load CSV files into separate DataFrames\n",
        "print(\"Loading CSV files...\")\n",
        "\n",
        "sydney_df = pd.read_csv(sydney_path)\n",
        "melbourne_df = pd.read_csv(melbourne_path)\n",
        "brisbane_df = pd.read_csv(brisbane_path)\n",
        "\n",
        "print(f\"Sydney DataFrame shape: {sydney_df.shape}\")\n",
        "print(f\"Melbourne DataFrame shape: {melbourne_df.shape}\")\n",
        "print(f\"Brisbane DataFrame shape: {brisbane_df.shape}\")\n",
        "\n",
        "# Display basic info about each dataset\n",
        "print(\"\\nSydney columns:\", sydney_df.columns.tolist()[:10], \"...\")\n",
        "print(\"Melbourne columns:\", melbourne_df.columns.tolist()[:10], \"...\")\n",
        "print(\"Brisbane columns:\", brisbane_df.columns.tolist()[:10], \"...\")\n"
      ]
    },
    {
      "cell_type": "code",
      "execution_count": null,
      "metadata": {},
      "outputs": [],
      "source": [
        "# Add city column to each DataFrame\n",
        "print(\"Adding city columns...\")\n",
        "\n",
        "sydney_df['city'] = 'Sydney'\n",
        "melbourne_df['city'] = 'Melbourne'\n",
        "brisbane_df['city'] = 'Brisbane'\n",
        "\n",
        "print(\"City columns added successfully\")\n"
      ]
    },
    {
      "cell_type": "code",
      "execution_count": null,
      "metadata": {},
      "outputs": [],
      "source": [
        "# Add data_snapshot_date column\n",
        "print(\"Adding data_snapshot_date columns...\")\n",
        "\n",
        "sydney_df['data_snapshot_date'] = '2025-06-10'\n",
        "melbourne_df['data_snapshot_date'] = '2025-06-10'\n",
        "brisbane_df['data_snapshot_date'] = '2025-08-04'\n",
        "\n",
        "print(\"Data snapshot date columns added successfully\")\n"
      ]
    },
    {
      "cell_type": "code",
      "execution_count": null,
      "metadata": {},
      "outputs": [],
      "source": [
        "# Concatenate the three DataFrames\n",
        "print(\"Concatenating DataFrames...\")\n",
        "\n",
        "merged_df = pd.concat([sydney_df, melbourne_df, brisbane_df], ignore_index=True)\n",
        "\n",
        "print(f\"Merged DataFrame shape: {merged_df.shape}\")\n",
        "print(f\"Total rows: {len(merged_df)}\")\n",
        "print(f\"Unique cities: {merged_df['city'].unique()}\")\n",
        "print(f\"Unique snapshot dates: {merged_df['data_snapshot_date'].unique()}\")\n"
      ]
    },
    {
      "cell_type": "code",
      "execution_count": null,
      "metadata": {},
      "outputs": [],
      "source": [
        "# Essential data cleaning\n",
        "print(\"Starting data cleaning...\")\n",
        "\n",
        "# Check current data types and missing values\n",
        "print(\"Before cleaning:\")\n",
        "print(f\"Price column type: {merged_df['price'].dtype}\")\n",
        "print(f\"Price column sample values: {merged_df['price'].head()}\")\n",
        "print(f\"Bedrooms missing values: {merged_df['bedrooms'].isnull().sum()}\")\n",
        "print(f\"Beds missing values: {merged_df['beds'].isnull().sum()}\")\n",
        "\n",
        "# Convert price column to numeric, removing '$' and ',' characters\n",
        "print(\"\\nConverting price column...\")\n",
        "merged_df['price'] = merged_df['price'].astype(str).str.replace('$', '').str.replace(',', '')\n",
        "merged_df['price'] = pd.to_numeric(merged_df['price'], errors='coerce')\n",
        "\n",
        "print(f\"After price conversion:\")\n",
        "print(f\"Price column type: {merged_df['price'].dtype}\")\n",
        "print(f\"Price column sample values: {merged_df['price'].head()}\")\n",
        "print(f\"Price missing values: {merged_df['price'].isnull().sum()}\")\n"
      ]
    },
    {
      "cell_type": "code",
      "execution_count": null,
      "metadata": {},
      "outputs": [],
      "source": [
        "# Fill missing values in bedrooms and beds columns with median\n",
        "print(\"Filling missing values in bedrooms and beds...\")\n",
        "\n",
        "bedrooms_median = merged_df['bedrooms'].median()\n",
        "beds_median = merged_df['beds'].median()\n",
        "\n",
        "print(f\"Bedrooms median: {bedrooms_median}\")\n",
        "print(f\"Beds median: {beds_median}\")\n",
        "\n",
        "merged_df['bedrooms'] = merged_df['bedrooms'].fillna(bedrooms_median)\n",
        "merged_df['beds'] = merged_df['beds'].fillna(beds_median)\n",
        "\n",
        "print(f\"After filling missing values:\")\n",
        "print(f\"Bedrooms missing values: {merged_df['bedrooms'].isnull().sum()}\")\n",
        "print(f\"Beds missing values: {merged_df['beds'].isnull().sum()}\")\n"
      ]
    },
    {
      "cell_type": "code",
      "execution_count": null,
      "metadata": {},
      "outputs": [],
      "source": [
        "# Convert data_snapshot_date to datetime\n",
        "print(\"Converting data_snapshot_date to datetime...\")\n",
        "\n",
        "merged_df['data_snapshot_date'] = pd.to_datetime(merged_df['data_snapshot_date'])\n",
        "\n",
        "print(f\"Data snapshot date column type: {merged_df['data_snapshot_date'].dtype}\")\n",
        "print(f\"Data snapshot date sample values: {merged_df['data_snapshot_date'].head()}\")\n"
      ]
    },
    {
      "cell_type": "code",
      "execution_count": null,
      "metadata": {},
      "outputs": [],
      "source": [
        "# Save the final cleaned DataFrame\n",
        "print(\"Saving cleaned DataFrame...\")\n",
        "\n",
        "output_path = os.path.join(data_processed_path, 'airbnb_unified_data.csv')\n",
        "merged_df.to_csv(output_path, index=False)\n",
        "\n",
        "print(f\"Data saved to: {output_path}\")\n",
        "print(f\"Final DataFrame shape: {merged_df.shape}\")\n",
        "print(f\"Final DataFrame columns: {list(merged_df.columns)}\")\n",
        "\n",
        "# Display summary statistics\n",
        "print(\"\\nSummary Statistics:\")\n",
        "print(f\"Total listings: {len(merged_df)}\")\n",
        "print(f\"Average price: ${merged_df['price'].mean():.2f}\")\n",
        "print(f\"Median price: ${merged_df['price'].median():.2f}\")\n",
        "print(f\"Average bedrooms: {merged_df['bedrooms'].mean():.2f}\")\n",
        "print(f\"Average beds: {merged_df['beds'].mean():.2f}\")\n",
        "print(f\"Cities distribution:\")\n",
        "print(merged_df['city'].value_counts())\n"
      ]
    }
  ],
  "metadata": {
    "language_info": {
      "name": "python"
    }
  },
  "nbformat": 4,
  "nbformat_minor": 2
}
